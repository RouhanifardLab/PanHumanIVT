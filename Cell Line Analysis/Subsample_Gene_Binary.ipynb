{
 "cells": [
  {
   "cell_type": "code",
   "execution_count": 1,
   "id": "41526d75-f311-43e0-b602-299a51c0e7cf",
   "metadata": {},
   "outputs": [],
   "source": [
    "import pandas as pd\n",
    "import numpy as np \n",
    "import seaborn as sns\n",
    "import random\n",
    "import pickle"
   ]
  },
  {
   "cell_type": "code",
   "execution_count": 2,
   "id": "8a50dc38-2a75-4985-94d4-88b72085e6b0",
   "metadata": {},
   "outputs": [],
   "source": [
    "#Set random seed\n",
    "random.seed(22)"
   ]
  },
  {
   "cell_type": "code",
   "execution_count": 3,
   "id": "3421645f-91e8-4d8b-9d4e-1aa5cbafef56",
   "metadata": {},
   "outputs": [],
   "source": [
    "#Calculate Dice simmilarity for two binary vectors (in this case if a gene was expressed or not)\n",
    "def dice_sim(a1, a2):\n",
    "    match = 0\n",
    "    no_match = 0\n",
    "    for i in range(len(a1)):\n",
    "        if a1[i] == a2[i]:\n",
    "            match += 1\n",
    "        else:\n",
    "            no_match += 1\n",
    "    return (2 * match) / (2 * match + no_match)"
   ]
  },
  {
   "cell_type": "code",
   "execution_count": 4,
   "id": "6c66e672-dd7c-4037-9647-a437a2488e16",
   "metadata": {},
   "outputs": [],
   "source": [
    "#Read in sam files and construct read_to_gene dict\n",
    "A549_read_dict = {}\n",
    "for line in open('A549_gencode.filtered.sam', 'r'):\n",
    "    if line [:3] == '@SQ':\n",
    "        continue\n",
    "    else:\n",
    "        split_line = line.split('\\t')\n",
    "        read_id = split_line[0]\n",
    "        gene_info = split_line[2][:-1].split('|')\n",
    "        if 'protein_coding' not in gene_info[-1]:\n",
    "            continue\n",
    "        gene = gene_info[5]\n",
    "        A549_read_dict[read_id] = gene\n",
    "fh = open('A549_read_to_gene_dict', 'wb')\n",
    "pickle.dump(A549_read_dict, fh)\n",
    "fh.close()"
   ]
  },
  {
   "cell_type": "code",
   "execution_count": 5,
   "id": "1f6ae23f-491c-43eb-bfb0-13d6406692bb",
   "metadata": {},
   "outputs": [],
   "source": [
    "HepG2_read_dict = {}\n",
    "for line in open('HepG2_gencode.filtered.sam', 'r'):\n",
    "    if line [:3] == '@SQ':\n",
    "        continue\n",
    "    else:\n",
    "        split_line = line.split('\\t')\n",
    "        read_id = split_line[0]\n",
    "        gene_info = split_line[2][:-1].split('|')\n",
    "        if 'protein_coding' not in gene_info[-1]:\n",
    "            continue\n",
    "        gene = gene_info[5]\n",
    "        HepG2_read_dict[read_id] = gene\n",
    "fh = open('HEPG2_read_to_gene_dict', 'wb')\n",
    "pickle.dump(HepG2_read_dict, fh)\n",
    "fh.close()"
   ]
  },
  {
   "cell_type": "code",
   "execution_count": 6,
   "id": "01297993-ef6d-441c-84d3-bfa8d5ba33e9",
   "metadata": {},
   "outputs": [],
   "source": [
    "NTERA_read_dict = {}\n",
    "for line in open('NTERA_gencode.filtered.sam', 'r'):\n",
    "    if line [:3] == '@SQ':\n",
    "        continue\n",
    "    else:\n",
    "        split_line = line.split('\\t')\n",
    "        read_id = split_line[0]\n",
    "        gene_info = split_line[2][:-1].split('|')\n",
    "        if 'protein_coding' not in gene_info[-1]:\n",
    "            continue\n",
    "        gene = gene_info[5]\n",
    "        NTERA_read_dict[read_id] = gene\n",
    "fh = open('NTERA_read_to_gene_dict', 'wb')\n",
    "pickle.dump(NTERA_read_dict, fh)\n",
    "fh.close()"
   ]
  },
  {
   "cell_type": "code",
   "execution_count": 7,
   "id": "34bf597c-4152-4a33-bb47-bcbf02a385b2",
   "metadata": {},
   "outputs": [],
   "source": [
    "SHSY5Y_read_dict = {}\n",
    "for line in open('SH-SY5Y_gencode.filtered.sam', 'r'):\n",
    "    if line [:3] == '@SQ':\n",
    "        continue\n",
    "    else:\n",
    "        split_line = line.split('\\t')\n",
    "        read_id = split_line[0]\n",
    "        gene_info = split_line[2][:-1].split('|')\n",
    "        if 'protein_coding' not in gene_info[-1]:\n",
    "            continue\n",
    "        gene = gene_info[5]\n",
    "        SHSY5Y_read_dict[read_id] = gene\n",
    "fh = open('SHSY5Y_read_to_gene_dict', 'wb')\n",
    "pickle.dump(SHSY5Y_read_dict, fh)\n",
    "fh.close()"
   ]
  },
  {
   "cell_type": "code",
   "execution_count": 8,
   "id": "6cb8fac2-20da-4c04-886e-7be3861bf6cb",
   "metadata": {},
   "outputs": [],
   "source": [
    "HeLa_read_dict = {}\n",
    "for line in open('HeLa_gencode.merged.filtered.sam', 'r'):\n",
    "    if line [:3] == '@SQ':\n",
    "        continue\n",
    "    else:\n",
    "        split_line = line.split('\\t')\n",
    "        read_id = split_line[0]\n",
    "        gene_info = split_line[2][:-1].split('|')\n",
    "        if 'protein_coding' not in gene_info[-1]:\n",
    "            continue\n",
    "        gene = gene_info[5]\n",
    "        HeLa_read_dict[read_id] = gene\n",
    "fh = open('HeLa_read_to_gene_dict', 'wb')\n",
    "pickle.dump(HeLa_read_dict, fh)\n",
    "fh.close()"
   ]
  },
  {
   "cell_type": "code",
   "execution_count": 10,
   "id": "7f67107d-cade-4c9a-87a8-61012b659dcc",
   "metadata": {},
   "outputs": [],
   "source": [
    "#Calculate observed genes from 1,000,000 sampled reads for each cell line\n",
    "a549_reads = random.sample(list(A549_read_dict.keys()), 1000000)\n",
    "NTERA_reads = random.sample(list(NTERA_read_dict.keys()), 1000000)\n",
    "HepG2_reads = random.sample(list(HepG2_read_dict.keys()), 1000000)\n",
    "SHSY5Y_reads = random.sample(list(SHSY5Y_read_dict.keys()), 1000000)\n",
    "HeLa_reads = random.sample(list(HeLa_read_dict.keys()), 1000000)"
   ]
  },
  {
   "cell_type": "code",
   "execution_count": 11,
   "id": "6d07e621-db7b-4c45-b088-6f69cd75c74f",
   "metadata": {},
   "outputs": [],
   "source": [
    "#for each gene found in each cell line, mark as one. If gene is not in dict already add 0 for all other cell lines\n",
    "gene_binary_dict = {}\n",
    "for key in a549_reads:\n",
    "    gene = A549_read_dict[key]\n",
    "    if gene not in gene_binary_dict:\n",
    "        gene_binary_dict[gene] = {'A549':0, 'NTERA':0, 'SHSY5Y':0, 'HeLa':0, 'HepG2':0}\n",
    "    gene_binary_dict[gene]['A549'] = 1"
   ]
  },
  {
   "cell_type": "code",
   "execution_count": 12,
   "id": "2b579568-e1f2-4671-b423-4149f2ecdd69",
   "metadata": {},
   "outputs": [],
   "source": [
    "for key in NTERA_reads:\n",
    "    gene = NTERA_read_dict[key]\n",
    "    if gene not in gene_binary_dict:\n",
    "        gene_binary_dict[gene] = {'A549':0, 'NTERA':0, 'SHSY5Y':0, 'HeLa':0, 'HepG2':0}\n",
    "    gene_binary_dict[gene]['NTERA'] = 1"
   ]
  },
  {
   "cell_type": "code",
   "execution_count": 13,
   "id": "b81862e7-7567-4f8e-b4d5-6ef41c58cf15",
   "metadata": {},
   "outputs": [],
   "source": [
    "for key in HepG2_reads:\n",
    "    gene = HepG2_read_dict[key]\n",
    "    if gene not in gene_binary_dict:\n",
    "        gene_binary_dict[gene] = {'A549':0, 'NTERA':0, 'SHSY5Y':0, 'HeLa':0, 'HepG2':0}\n",
    "    gene_binary_dict[gene]['HepG2'] = 1"
   ]
  },
  {
   "cell_type": "code",
   "execution_count": 14,
   "id": "c1f598f4-7a11-4ebb-918f-08e790a128a2",
   "metadata": {},
   "outputs": [],
   "source": [
    "for key in SHSY5Y_reads:\n",
    "    gene = SHSY5Y_read_dict[key]\n",
    "    if gene not in gene_binary_dict:\n",
    "        gene_binary_dict[gene] = {'A549':0, 'NTERA':0, 'SHSY5Y':0, 'HeLa':0, 'HepG2':0}\n",
    "    gene_binary_dict[gene]['SHSY5Y'] = 1"
   ]
  },
  {
   "cell_type": "code",
   "execution_count": 15,
   "id": "780d3a2b-40c4-4adc-9cdb-2fe049f6d50d",
   "metadata": {},
   "outputs": [],
   "source": [
    "for key in HeLa_reads:\n",
    "    gene = HeLa_read_dict[key]\n",
    "    if gene not in gene_binary_dict:\n",
    "        gene_binary_dict[gene] = {'A549':0, 'NTERA':0, 'SHSY5Y':0, 'HeLa':0, 'HepG2':0}\n",
    "    gene_binary_dict[gene]['HeLa'] = 1"
   ]
  },
  {
   "cell_type": "code",
   "execution_count": 16,
   "id": "43a398ab-bdf8-46b8-bbf5-547b0c8d758b",
   "metadata": {},
   "outputs": [
    {
     "data": {
      "text/html": [
       "<div>\n",
       "<style scoped>\n",
       "    .dataframe tbody tr th:only-of-type {\n",
       "        vertical-align: middle;\n",
       "    }\n",
       "\n",
       "    .dataframe tbody tr th {\n",
       "        vertical-align: top;\n",
       "    }\n",
       "\n",
       "    .dataframe thead th {\n",
       "        text-align: right;\n",
       "    }\n",
       "</style>\n",
       "<table border=\"1\" class=\"dataframe\">\n",
       "  <thead>\n",
       "    <tr style=\"text-align: right;\">\n",
       "      <th></th>\n",
       "      <th>A549</th>\n",
       "      <th>NTERA</th>\n",
       "      <th>SHSY5Y</th>\n",
       "      <th>HeLa</th>\n",
       "      <th>HepG2</th>\n",
       "    </tr>\n",
       "  </thead>\n",
       "  <tbody>\n",
       "    <tr>\n",
       "      <th>AKAP1</th>\n",
       "      <td>1</td>\n",
       "      <td>1</td>\n",
       "      <td>1</td>\n",
       "      <td>1</td>\n",
       "      <td>1</td>\n",
       "    </tr>\n",
       "    <tr>\n",
       "      <th>TUBA1B</th>\n",
       "      <td>1</td>\n",
       "      <td>1</td>\n",
       "      <td>1</td>\n",
       "      <td>1</td>\n",
       "      <td>1</td>\n",
       "    </tr>\n",
       "    <tr>\n",
       "      <th>CCT2</th>\n",
       "      <td>1</td>\n",
       "      <td>1</td>\n",
       "      <td>1</td>\n",
       "      <td>1</td>\n",
       "      <td>1</td>\n",
       "    </tr>\n",
       "    <tr>\n",
       "      <th>MZT2B</th>\n",
       "      <td>1</td>\n",
       "      <td>1</td>\n",
       "      <td>1</td>\n",
       "      <td>1</td>\n",
       "      <td>1</td>\n",
       "    </tr>\n",
       "    <tr>\n",
       "      <th>RPS23</th>\n",
       "      <td>1</td>\n",
       "      <td>1</td>\n",
       "      <td>1</td>\n",
       "      <td>1</td>\n",
       "      <td>1</td>\n",
       "    </tr>\n",
       "  </tbody>\n",
       "</table>\n",
       "</div>"
      ],
      "text/plain": [
       "        A549  NTERA  SHSY5Y  HeLa  HepG2\n",
       "AKAP1      1      1       1     1      1\n",
       "TUBA1B     1      1       1     1      1\n",
       "CCT2       1      1       1     1      1\n",
       "MZT2B      1      1       1     1      1\n",
       "RPS23      1      1       1     1      1"
      ]
     },
     "execution_count": 16,
     "metadata": {},
     "output_type": "execute_result"
    }
   ],
   "source": [
    "df = pd.DataFrame.from_dict(gene_binary_dict, orient='index')\n",
    "df.head()"
   ]
  },
  {
   "cell_type": "code",
   "execution_count": 17,
   "id": "80c15c53-ab61-4773-86ed-462e38459cb6",
   "metadata": {},
   "outputs": [],
   "source": [
    "a549_binary = df['A549'].to_list()\n",
    "ntera_binary = df['NTERA'].to_list()\n",
    "shsy5y_binary = df['SHSY5Y'].to_list()\n",
    "hela_binary = df['HeLa'].to_list()\n",
    "hepg2_binary = df['HepG2'].to_list()"
   ]
  },
  {
   "cell_type": "code",
   "execution_count": 19,
   "id": "00259b1c-d0d7-4eea-ac9a-f2fbc2b01af7",
   "metadata": {},
   "outputs": [],
   "source": [
    "#Simmilarity matrix, diagonals set to None for masking in final graph\n",
    "dice_sim_dict = {'a549':{'a549':None,'ntera':0, 'shsy5y':0, 'hela':0, 'hepg2':0},\n",
    "                 'ntera':{'a549':0,'ntera':None, 'shsy5y':0, 'hela':0, 'hepg2':0},\n",
    "                 'shsy5y':{'a549':0, 'ntera':0, 'shsy5y':None, 'hela':0, 'hepg2':0},\n",
    "                 'hela':{'a549':0, 'ntera':0, 'shsy5y':0, 'hela':None, 'hepg2':0},\n",
    "                 'hepg2':{'a549':0, 'ntera':0, 'hela':0, 'shsy5y':0, 'hepg2':None}}"
   ]
  },
  {
   "cell_type": "code",
   "execution_count": 20,
   "id": "27e2c117-9a61-4367-a1f5-ec9e538ebf99",
   "metadata": {},
   "outputs": [],
   "source": [
    "#Calculate pairwise dice simmilarity\n",
    "dice_sim_dict['a549']['ntera'] = dice_sim(a549_binary, ntera_binary)\n",
    "dice_sim_dict['a549']['shsy5y'] = dice_sim(a549_binary, shsy5y_binary)\n",
    "dice_sim_dict['a549']['hela'] = dice_sim(a549_binary, hela_binary)\n",
    "dice_sim_dict['a549']['hepg2'] = dice_sim(a549_binary, hepg2_binary)\n",
    "\n",
    "dice_sim_dict['ntera']['a549'] = dice_sim(ntera_binary, a549_binary)\n",
    "dice_sim_dict['ntera']['shsy5y'] = dice_sim(ntera_binary, shsy5y_binary)\n",
    "dice_sim_dict['ntera']['hela'] = dice_sim(ntera_binary, hela_binary)\n",
    "dice_sim_dict['ntera']['hepg2'] = dice_sim(ntera_binary, hepg2_binary)\n",
    "\n",
    "dice_sim_dict['shsy5y']['a549'] = dice_sim(shsy5y_binary, a549_binary)\n",
    "dice_sim_dict['shsy5y']['ntera'] = dice_sim(shsy5y_binary, ntera_binary)\n",
    "dice_sim_dict['shsy5y']['hela'] = dice_sim(shsy5y_binary, hela_binary)\n",
    "dice_sim_dict['shsy5y']['hepg2'] = dice_sim(shsy5y_binary, hepg2_binary)\n",
    "\n",
    "dice_sim_dict['hela']['a549'] = dice_sim(hela_binary, a549_binary)\n",
    "dice_sim_dict['hela']['ntera'] = dice_sim(hela_binary, ntera_binary)\n",
    "dice_sim_dict['hela']['shsy5y'] = dice_sim(hela_binary, shsy5y_binary)\n",
    "dice_sim_dict['hela']['hepg2'] = dice_sim(hela_binary, hepg2_binary)\n",
    "\n",
    "dice_sim_dict['hepg2']['a549'] = dice_sim(hepg2_binary, a549_binary)\n",
    "dice_sim_dict['hepg2']['ntera'] = dice_sim(hepg2_binary, ntera_binary)\n",
    "dice_sim_dict['hepg2']['shsy5y'] = dice_sim(hepg2_binary, shsy5y_binary)\n",
    "dice_sim_dict['hepg2']['hela'] = dice_sim(hepg2_binary, hela_binary)"
   ]
  },
  {
   "cell_type": "code",
   "execution_count": 21,
   "id": "b19de078-6916-49f9-ad36-51f82fa3bd57",
   "metadata": {},
   "outputs": [],
   "source": [
    "dice_df = pd.DataFrame.from_dict(dice_sim_dict)\n",
    "dice_df.head()"
   ]
  },
  {
   "cell_type": "code",
   "execution_count": 26,
   "id": "744a47dd-26fc-4ef7-b39e-a2dc8b60ddc2",
   "metadata": {},
   "outputs": [
    {
     "data": {
      "text/plain": [
       "[Text(0.5, 1.0, 'Dice Similarity for Gene Expression Binary Vectors\\n derived from 1,000,000 randomly sampled Reads')]"
      ]
     },
     "execution_count": 26,
     "metadata": {},
     "output_type": "execute_result"
    },
    {
     "data": {
      "image/png": "[encoded data removed]",
      "text/plain": [
       "<Figure size 640x480 with 2 Axes>"
      ]
     },
     "metadata": {},
     "output_type": "display_data"
    }
   ],
   "source": [
    "fig_3 = sns.heatmap(dice_df, center=0.8875, cmap='viridis')\n",
    "fig_3.set(title='Dice Similarity for Gene Expression Binary Vectors\\n derived from 1,000,000 randomly sampled Reads')"
   ]
  },
  {
   "cell_type": "code",
   "execution_count": 27,
   "id": "4ecf0e24-d291-4f17-8e65-e8d16d80e71b",
   "metadata": {},
   "outputs": [],
   "source": [
    "#Uncomment to save fig\n",
    "#fig_3.get_figure().savefig('Dice_sim_viridis.eps')"
   ]
  },
  {
   "cell_type": "code",
   "execution_count": 28,
   "id": "4ed9cc03-256a-4132-b7e8-f0d51a220b18",
   "metadata": {},
   "outputs": [],
   "source": [
    "#Uncomment to save fig\n",
    "#fig_3.get_figure().savefig('Dice_sim_viridis.png')"
   ]
  },
  {
   "cell_type": "code",
   "execution_count": null,
   "id": "19f80595-c0b6-46ec-8783-817e4640e57d",
   "metadata": {},
   "outputs": [],
   "source": []
  }
 ],
 "metadata": {
  "kernelspec": {
   "display_name": "Python 3 (ipykernel)",
   "language": "python",
   "name": "python3"
  },
  "language_info": {
   "codemirror_mode": {
    "name": "ipython",
    "version": 3
   },
   "file_extension": ".py",
   "mimetype": "text/x-python",
   "name": "python",
   "nbconvert_exporter": "python",
   "pygments_lexer": "ipython3",
   "version": "3.9.13"
  }
 },
 "nbformat": 4,
 "nbformat_minor": 5
}
