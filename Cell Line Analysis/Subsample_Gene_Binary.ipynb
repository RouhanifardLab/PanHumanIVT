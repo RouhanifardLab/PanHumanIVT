{
 "cells": [
  {
   "cell_type": "code",
   "execution_count": 1,
   "id": "41526d75-f311-43e0-b602-299a51c0e7cf",
   "metadata": {},
   "outputs": [],
   "source": [
    "import pandas as pd\n",
    "import numpy as np \n",
    "import seaborn as sns\n",
    "import random\n",
    "import pickle"
   ]
  },
  {
   "cell_type": "code",
   "execution_count": 2,
   "id": "8a50dc38-2a75-4985-94d4-88b72085e6b0",
   "metadata": {},
   "outputs": [],
   "source": [
    "random.seed(22)"
   ]
  },
  {
   "cell_type": "code",
   "execution_count": 3,
   "id": "3421645f-91e8-4d8b-9d4e-1aa5cbafef56",
   "metadata": {},
   "outputs": [],
   "source": [
    "def dice_sim(a1, a2):\n",
    "    match = 0\n",
    "    no_match = 0\n",
    "    for i in range(len(a1)):\n",
    "        if a1[i] == a2[i]:\n",
    "            match += 1\n",
    "        else:\n",
    "            no_match += 1\n",
    "    return (2 * match) / (2 * match + no_match)"
   ]
  },
  {
   "cell_type": "code",
   "execution_count": 4,
   "id": "c1dbaf20-7187-442e-8336-88cd8cbd49af",
   "metadata": {},
   "outputs": [],
   "source": [
    "fh = open('../gene_filter_set', 'rb')\n",
    "gene_filter = pickle.load(fh)\n",
    "fh.close()"
   ]
  },
  {
   "cell_type": "code",
   "execution_count": 5,
   "id": "6c66e672-dd7c-4037-9647-a437a2488e16",
   "metadata": {},
   "outputs": [
    {
     "name": "stdout",
     "output_type": "stream",
     "text": [
      "PN:minimap\n",
      "PN:samtool\n"
     ]
    }
   ],
   "source": [
    "A549_read_dict = {}\n",
    "for line in open('A549_gencode.filtered.sam', 'r'):\n",
    "    if line [:3] == '@SQ':\n",
    "        continue\n",
    "    else:\n",
    "        split_line = line.split('\\t')\n",
    "        read_id = split_line[0]\n",
    "        gene_info = split_line[2][:-1].split('|')\n",
    "        if gene_info[-1] not in gene_filter:\n",
    "            print(gene_info[-1])\n",
    "            continue\n",
    "        gene = gene_info[5]\n",
    "        A549_read_dict[read_id] = gene\n",
    "fh = open('A549_read_to_gene_dict', 'wb')\n",
    "pickle.dump(A549_read_dict, fh)\n",
    "fh.close()"
   ]
  },
  {
   "cell_type": "code",
   "execution_count": 6,
   "id": "1f6ae23f-491c-43eb-bfb0-13d6406692bb",
   "metadata": {},
   "outputs": [],
   "source": [
    "HepG2_read_dict = {}\n",
    "for line in open('HepG2_gencode.filtered.sam', 'r'):\n",
    "    if line [:3] == '@SQ':\n",
    "        continue\n",
    "    else:\n",
    "        split_line = line.split('\\t')\n",
    "        read_id = split_line[0]\n",
    "        gene_info = split_line[2][:-1].split('|')\n",
    "        if gene_info[-1] not in gene_filter:\n",
    "            continue\n",
    "        gene = gene_info[5]\n",
    "        HepG2_read_dict[read_id] = gene\n",
    "fh = open('HEPG2_read_to_gene_dict', 'wb')\n",
    "pickle.dump(HepG2_read_dict, fh)\n",
    "fh.close()"
   ]
  },
  {
   "cell_type": "code",
   "execution_count": 7,
   "id": "01297993-ef6d-441c-84d3-bfa8d5ba33e9",
   "metadata": {},
   "outputs": [],
   "source": [
    "NTERA_read_dict = {}\n",
    "for line in open('NTERA_gencode.filtered.sam', 'r'):\n",
    "    if line [:3] == '@SQ':\n",
    "        continue\n",
    "    else:\n",
    "        split_line = line.split('\\t')\n",
    "        read_id = split_line[0]\n",
    "        gene_info = split_line[2][:-1].split('|')\n",
    "        if gene_info[-1] not in gene_filter:\n",
    "            continue\n",
    "        gene = gene_info[5]\n",
    "        NTERA_read_dict[read_id] = gene\n",
    "fh = open('NTERA_read_to_gene_dict', 'wb')\n",
    "pickle.dump(NTERA_read_dict, fh)\n",
    "fh.close()"
   ]
  },
  {
   "cell_type": "code",
   "execution_count": 8,
   "id": "34bf597c-4152-4a33-bb47-bcbf02a385b2",
   "metadata": {},
   "outputs": [],
   "source": [
    "SHSY5Y_read_dict = {}\n",
    "for line in open('SH-SY5Y_gencode.filtered.sam', 'r'):\n",
    "    if line [:3] == '@SQ':\n",
    "        continue\n",
    "    else:\n",
    "        split_line = line.split('\\t')\n",
    "        read_id = split_line[0]\n",
    "        gene_info = split_line[2][:-1].split('|')\n",
    "        if gene_info[-1] not in gene_filter:\n",
    "            continue\n",
    "        gene = gene_info[5]\n",
    "        SHSY5Y_read_dict[read_id] = gene\n",
    "fh = open('SHSY5Y_read_to_gene_dict', 'wb')\n",
    "pickle.dump(SHSY5Y_read_dict, fh)\n",
    "fh.close()"
   ]
  },
  {
   "cell_type": "code",
   "execution_count": 9,
   "id": "6cb8fac2-20da-4c04-886e-7be3861bf6cb",
   "metadata": {},
   "outputs": [],
   "source": [
    "HeLa_read_dict = {}\n",
    "thrown_out = 0\n",
    "kept = 0\n",
    "mapq0 = 0\n",
    "for line in open('HeLa_gencode.filtered.sam', 'r'):\n",
    "    mapq0 += 1\n",
    "    if line [:3] == '@SQ':\n",
    "        continue\n",
    "    else:\n",
    "        split_line = line.split('\\t')\n",
    "        read_id = split_line[0]\n",
    "        gene_info = split_line[2][:-1].split('|')\n",
    "        if gene_info[-1] not in gene_filter:\n",
    "            thrown_out += 1\n",
    "            continue\n",
    "        kept += 1\n",
    "        gene = gene_info[5]\n",
    "        HeLa_read_dict[read_id] = gene\n",
    "fh = open('HeLa_read_to_gene_dict', 'wb')\n",
    "pickle.dump(HeLa_read_dict, fh)\n",
    "fh.close()"
   ]
  },
  {
   "cell_type": "code",
   "execution_count": 10,
   "id": "501f0f82-d7f4-4f2b-a239-b485d39b0b7b",
   "metadata": {},
   "outputs": [
    {
     "name": "stdout",
     "output_type": "stream",
     "text": [
      "17570\n"
     ]
    }
   ],
   "source": [
    "print(len(set(HeLa_read_dict.values())))\n",
    "fh = open('tmp_hela_gene_set', 'wb')\n",
    "pickle.dump(set(HeLa_read_dict.values()), fh)\n",
    "fh.close()"
   ]
  },
  {
   "cell_type": "code",
   "execution_count": 11,
   "id": "906af5aa-1a17-469c-8b38-8e6727c435ec",
   "metadata": {},
   "outputs": [
    {
     "name": "stdout",
     "output_type": "stream",
     "text": [
      "66\n"
     ]
    }
   ],
   "source": [
    "count = 0\n",
    "for value in HeLa_read_dict.values():\n",
    "    if value == 'SAMD11':\n",
    "        count += 1\n",
    "print(count)"
   ]
  },
  {
   "cell_type": "code",
   "execution_count": 12,
   "id": "526bf737-06f9-4846-a1d0-76fec55a8c0a",
   "metadata": {},
   "outputs": [
    {
     "name": "stdout",
     "output_type": "stream",
     "text": [
      "2\n",
      "3866418\n"
     ]
    }
   ],
   "source": [
    "print(thrown_out)\n",
    "print(kept)"
   ]
  },
  {
   "cell_type": "code",
   "execution_count": 13,
   "id": "7f67107d-cade-4c9a-87a8-61012b659dcc",
   "metadata": {},
   "outputs": [],
   "source": [
    "a549_reads = random.sample(list(A549_read_dict.keys()), 1000000)\n",
    "NTERA_reads = random.sample(list(NTERA_read_dict.keys()), 1000000)\n",
    "HepG2_reads = random.sample(list(HepG2_read_dict.keys()), 1000000)\n",
    "SHSY5Y_reads = random.sample(list(SHSY5Y_read_dict.keys()), 1000000)\n",
    "HeLa_reads = random.sample(list(HeLa_read_dict.keys()), 1000000)"
   ]
  },
  {
   "cell_type": "code",
   "execution_count": 14,
   "id": "6d07e621-db7b-4c45-b088-6f69cd75c74f",
   "metadata": {},
   "outputs": [],
   "source": [
    "gene_binary_dict = {}\n",
    "for key in a549_reads:\n",
    "    gene = A549_read_dict[key]\n",
    "    if gene not in gene_binary_dict:\n",
    "        gene_binary_dict[gene] = {'A549':0, 'NTERA':0, 'SHSY5Y':0, 'HeLa':0, 'HepG2':0}\n",
    "    gene_binary_dict[gene]['A549'] = 1"
   ]
  },
  {
   "cell_type": "code",
   "execution_count": 15,
   "id": "2b579568-e1f2-4671-b423-4149f2ecdd69",
   "metadata": {},
   "outputs": [],
   "source": [
    "for key in NTERA_reads:\n",
    "    gene = NTERA_read_dict[key]\n",
    "    if gene not in gene_binary_dict:\n",
    "        gene_binary_dict[gene] = {'A549':0, 'NTERA':0, 'SHSY5Y':0, 'HeLa':0, 'HepG2':0}\n",
    "    gene_binary_dict[gene]['NTERA'] = 1"
   ]
  },
  {
   "cell_type": "code",
   "execution_count": 16,
   "id": "b81862e7-7567-4f8e-b4d5-6ef41c58cf15",
   "metadata": {},
   "outputs": [],
   "source": [
    "for key in HepG2_reads:\n",
    "    gene = HepG2_read_dict[key]\n",
    "    if gene not in gene_binary_dict:\n",
    "        gene_binary_dict[gene] = {'A549':0, 'NTERA':0, 'SHSY5Y':0, 'HeLa':0, 'HepG2':0}\n",
    "    gene_binary_dict[gene]['HepG2'] = 1"
   ]
  },
  {
   "cell_type": "code",
   "execution_count": 17,
   "id": "c1f598f4-7a11-4ebb-918f-08e790a128a2",
   "metadata": {},
   "outputs": [],
   "source": [
    "for key in SHSY5Y_reads:\n",
    "    gene = SHSY5Y_read_dict[key]\n",
    "    if gene not in gene_binary_dict:\n",
    "        gene_binary_dict[gene] = {'A549':0, 'NTERA':0, 'SHSY5Y':0, 'HeLa':0, 'HepG2':0}\n",
    "    gene_binary_dict[gene]['SHSY5Y'] = 1"
   ]
  },
  {
   "cell_type": "code",
   "execution_count": 18,
   "id": "780d3a2b-40c4-4adc-9cdb-2fe049f6d50d",
   "metadata": {},
   "outputs": [],
   "source": [
    "for key in HeLa_reads:\n",
    "    gene = HeLa_read_dict[key]\n",
    "    if gene not in gene_binary_dict:\n",
    "        gene_binary_dict[gene] = {'A549':0, 'NTERA':0, 'SHSY5Y':0, 'HeLa':0, 'HepG2':0}\n",
    "    gene_binary_dict[gene]['HeLa'] = 1"
   ]
  },
  {
   "cell_type": "code",
   "execution_count": 19,
   "id": "43a398ab-bdf8-46b8-bbf5-547b0c8d758b",
   "metadata": {},
   "outputs": [
    {
     "data": {
      "text/html": [
       "<div>\n",
       "<style scoped>\n",
       "    .dataframe tbody tr th:only-of-type {\n",
       "        vertical-align: middle;\n",
       "    }\n",
       "\n",
       "    .dataframe tbody tr th {\n",
       "        vertical-align: top;\n",
       "    }\n",
       "\n",
       "    .dataframe thead th {\n",
       "        text-align: right;\n",
       "    }\n",
       "</style>\n",
       "<table border=\"1\" class=\"dataframe\">\n",
       "  <thead>\n",
       "    <tr style=\"text-align: right;\">\n",
       "      <th></th>\n",
       "      <th>A549</th>\n",
       "      <th>NTERA</th>\n",
       "      <th>SHSY5Y</th>\n",
       "      <th>HeLa</th>\n",
       "      <th>HepG2</th>\n",
       "    </tr>\n",
       "  </thead>\n",
       "  <tbody>\n",
       "    <tr>\n",
       "      <th>RPL6</th>\n",
       "      <td>1</td>\n",
       "      <td>1</td>\n",
       "      <td>1</td>\n",
       "      <td>1</td>\n",
       "      <td>1</td>\n",
       "    </tr>\n",
       "    <tr>\n",
       "      <th>CXCL5</th>\n",
       "      <td>1</td>\n",
       "      <td>1</td>\n",
       "      <td>0</td>\n",
       "      <td>0</td>\n",
       "      <td>0</td>\n",
       "    </tr>\n",
       "    <tr>\n",
       "      <th>RPS20</th>\n",
       "      <td>1</td>\n",
       "      <td>1</td>\n",
       "      <td>1</td>\n",
       "      <td>1</td>\n",
       "      <td>1</td>\n",
       "    </tr>\n",
       "    <tr>\n",
       "      <th>GDI2</th>\n",
       "      <td>1</td>\n",
       "      <td>1</td>\n",
       "      <td>1</td>\n",
       "      <td>1</td>\n",
       "      <td>1</td>\n",
       "    </tr>\n",
       "    <tr>\n",
       "      <th>COX5B</th>\n",
       "      <td>1</td>\n",
       "      <td>1</td>\n",
       "      <td>1</td>\n",
       "      <td>1</td>\n",
       "      <td>1</td>\n",
       "    </tr>\n",
       "  </tbody>\n",
       "</table>\n",
       "</div>"
      ],
      "text/plain": [
       "       A549  NTERA  SHSY5Y  HeLa  HepG2\n",
       "RPL6      1      1       1     1      1\n",
       "CXCL5     1      1       0     0      0\n",
       "RPS20     1      1       1     1      1\n",
       "GDI2      1      1       1     1      1\n",
       "COX5B     1      1       1     1      1"
      ]
     },
     "execution_count": 19,
     "metadata": {},
     "output_type": "execute_result"
    }
   ],
   "source": [
    "df = pd.DataFrame.from_dict(gene_binary_dict, orient='index')\n",
    "df.head()"
   ]
  },
  {
   "cell_type": "code",
   "execution_count": 20,
   "id": "80c15c53-ab61-4773-86ed-462e38459cb6",
   "metadata": {},
   "outputs": [],
   "source": [
    "a549_binary = df['A549'].to_list()\n",
    "ntera_binary = df['NTERA'].to_list()\n",
    "shsy5y_binary = df['SHSY5Y'].to_list()\n",
    "hela_binary = df['HeLa'].to_list()\n",
    "hepg2_binary = df['HepG2'].to_list()"
   ]
  },
  {
   "cell_type": "code",
   "execution_count": 21,
   "id": "31398ed7-5239-45e6-8619-39d1e0697bb4",
   "metadata": {},
   "outputs": [
    {
     "data": {
      "text/plain": [
       "0.8261533911671924"
      ]
     },
     "execution_count": 21,
     "metadata": {},
     "output_type": "execute_result"
    }
   ],
   "source": [
    "dice_sim(a549_binary, ntera_binary)"
   ]
  },
  {
   "cell_type": "code",
   "execution_count": 22,
   "id": "00259b1c-d0d7-4eea-ac9a-f2fbc2b01af7",
   "metadata": {},
   "outputs": [],
   "source": [
    "dice_sim_dict = {'a549':{'a549':None,'ntera':0, 'shsy5y':0, 'hela':0, 'hepg2':0},\n",
    "                 'ntera':{'a549':0,'ntera':None, 'shsy5y':0, 'hela':0, 'hepg2':0},\n",
    "                 'shsy5y':{'a549':0, 'ntera':0, 'shsy5y':None, 'hela':0, 'hepg2':0},\n",
    "                 'hela':{'a549':0, 'ntera':0, 'shsy5y':0, 'hela':None, 'hepg2':0},\n",
    "                 'hepg2':{'a549':0, 'ntera':0, 'hela':0, 'shsy5y':0, 'hepg2':None}}"
   ]
  },
  {
   "cell_type": "code",
   "execution_count": 23,
   "id": "27e2c117-9a61-4367-a1f5-ec9e538ebf99",
   "metadata": {},
   "outputs": [],
   "source": [
    "\n",
    "dice_sim_dict['a549']['ntera'] = dice_sim(a549_binary, ntera_binary)\n",
    "dice_sim_dict['a549']['shsy5y'] = dice_sim(a549_binary, shsy5y_binary)\n",
    "dice_sim_dict['a549']['hela'] = dice_sim(a549_binary, hela_binary)\n",
    "dice_sim_dict['a549']['hepg2'] = dice_sim(a549_binary, hepg2_binary)\n",
    "\n",
    "dice_sim_dict['ntera']['a549'] = dice_sim(ntera_binary, a549_binary)\n",
    "dice_sim_dict['ntera']['shsy5y'] = dice_sim(ntera_binary, shsy5y_binary)\n",
    "dice_sim_dict['ntera']['hela'] = dice_sim(ntera_binary, hela_binary)\n",
    "dice_sim_dict['ntera']['hepg2'] = dice_sim(ntera_binary, hepg2_binary)\n",
    "\n",
    "dice_sim_dict['shsy5y']['a549'] = dice_sim(shsy5y_binary, a549_binary)\n",
    "dice_sim_dict['shsy5y']['ntera'] = dice_sim(shsy5y_binary, ntera_binary)\n",
    "dice_sim_dict['shsy5y']['hela'] = dice_sim(shsy5y_binary, hela_binary)\n",
    "dice_sim_dict['shsy5y']['hepg2'] = dice_sim(shsy5y_binary, hepg2_binary)\n",
    "\n",
    "dice_sim_dict['hela']['a549'] = dice_sim(hela_binary, a549_binary)\n",
    "dice_sim_dict['hela']['ntera'] = dice_sim(hela_binary, ntera_binary)\n",
    "dice_sim_dict['hela']['shsy5y'] = dice_sim(hela_binary, shsy5y_binary)\n",
    "dice_sim_dict['hela']['hepg2'] = dice_sim(hela_binary, hepg2_binary)\n",
    "\n",
    "dice_sim_dict['hepg2']['a549'] = dice_sim(hepg2_binary, a549_binary)\n",
    "dice_sim_dict['hepg2']['ntera'] = dice_sim(hepg2_binary, ntera_binary)\n",
    "dice_sim_dict['hepg2']['shsy5y'] = dice_sim(hepg2_binary, shsy5y_binary)\n",
    "dice_sim_dict['hepg2']['hela'] = dice_sim(hepg2_binary, hela_binary)"
   ]
  },
  {
   "cell_type": "code",
   "execution_count": 24,
   "id": "b19de078-6916-49f9-ad36-51f82fa3bd57",
   "metadata": {},
   "outputs": [],
   "source": [
    "dice_df = pd.DataFrame.from_dict(dice_sim_dict)"
   ]
  },
  {
   "cell_type": "code",
   "execution_count": 25,
   "id": "e443ea6a-c362-48a6-9840-c9c555348c64",
   "metadata": {},
   "outputs": [
    {
     "data": {
      "text/html": [
       "<div>\n",
       "<style scoped>\n",
       "    .dataframe tbody tr th:only-of-type {\n",
       "        vertical-align: middle;\n",
       "    }\n",
       "\n",
       "    .dataframe tbody tr th {\n",
       "        vertical-align: top;\n",
       "    }\n",
       "\n",
       "    .dataframe thead th {\n",
       "        text-align: right;\n",
       "    }\n",
       "</style>\n",
       "<table border=\"1\" class=\"dataframe\">\n",
       "  <thead>\n",
       "    <tr style=\"text-align: right;\">\n",
       "      <th></th>\n",
       "      <th>a549</th>\n",
       "      <th>ntera</th>\n",
       "      <th>shsy5y</th>\n",
       "      <th>hela</th>\n",
       "      <th>hepg2</th>\n",
       "    </tr>\n",
       "  </thead>\n",
       "  <tbody>\n",
       "    <tr>\n",
       "      <th>a549</th>\n",
       "      <td>NaN</td>\n",
       "      <td>0.826153</td>\n",
       "      <td>0.837584</td>\n",
       "      <td>0.871033</td>\n",
       "      <td>0.851570</td>\n",
       "    </tr>\n",
       "    <tr>\n",
       "      <th>ntera</th>\n",
       "      <td>0.826153</td>\n",
       "      <td>NaN</td>\n",
       "      <td>0.834455</td>\n",
       "      <td>0.819783</td>\n",
       "      <td>0.814879</td>\n",
       "    </tr>\n",
       "    <tr>\n",
       "      <th>shsy5y</th>\n",
       "      <td>0.837584</td>\n",
       "      <td>0.834455</td>\n",
       "      <td>NaN</td>\n",
       "      <td>0.837669</td>\n",
       "      <td>0.830620</td>\n",
       "    </tr>\n",
       "    <tr>\n",
       "      <th>hela</th>\n",
       "      <td>0.871033</td>\n",
       "      <td>0.819783</td>\n",
       "      <td>0.837669</td>\n",
       "      <td>NaN</td>\n",
       "      <td>0.855076</td>\n",
       "    </tr>\n",
       "    <tr>\n",
       "      <th>hepg2</th>\n",
       "      <td>0.851570</td>\n",
       "      <td>0.814879</td>\n",
       "      <td>0.830620</td>\n",
       "      <td>0.855076</td>\n",
       "      <td>NaN</td>\n",
       "    </tr>\n",
       "  </tbody>\n",
       "</table>\n",
       "</div>"
      ],
      "text/plain": [
       "            a549     ntera    shsy5y      hela     hepg2\n",
       "a549         NaN  0.826153  0.837584  0.871033  0.851570\n",
       "ntera   0.826153       NaN  0.834455  0.819783  0.814879\n",
       "shsy5y  0.837584  0.834455       NaN  0.837669  0.830620\n",
       "hela    0.871033  0.819783  0.837669       NaN  0.855076\n",
       "hepg2   0.851570  0.814879  0.830620  0.855076       NaN"
      ]
     },
     "execution_count": 25,
     "metadata": {},
     "output_type": "execute_result"
    }
   ],
   "source": [
    "dice_df"
   ]
  },
  {
   "cell_type": "code",
   "execution_count": 28,
   "id": "744a47dd-26fc-4ef7-b39e-a2dc8b60ddc2",
   "metadata": {},
   "outputs": [
    {
     "data": {
      "text/plain": [
       "[Text(0.5, 1.0, 'Dice Similarity for Gene Expression Binary Vectors\\n derived from 1,000,000 randomly sampled Reads')]"
      ]
     },
     "execution_count": 28,
     "metadata": {},
     "output_type": "execute_result"
    },
    {
     "data": {
      "image/png": "[encoded data removed]",
      "text/plain": [
       "<Figure size 640x480 with 2 Axes>"
      ]
     },
     "metadata": {},
     "output_type": "display_data"
    }
   ],
   "source": [
    "fig_3 = sns.heatmap(dice_df, center=0.84, cmap='viridis')\n",
    "fig_3.set(title='Dice Similarity for Gene Expression Binary Vectors\\n derived from 1,000,000 randomly sampled Reads')"
   ]
  },
  {
   "cell_type": "code",
   "execution_count": 27,
   "id": "4ecf0e24-d291-4f17-8e65-e8d16d80e71b",
   "metadata": {},
   "outputs": [],
   "source": [
    "fig_3.get_figure().savefig('Dice_sim_viridis.eps')"
   ]
  },
  {
   "cell_type": "code",
   "execution_count": 28,
   "id": "4ed9cc03-256a-4132-b7e8-f0d51a220b18",
   "metadata": {},
   "outputs": [],
   "source": [
    "fig_3.get_figure().savefig('Dice_sim_viridis.png')"
   ]
  },
  {
   "cell_type": "code",
   "execution_count": 29,
   "id": "19f80595-c0b6-46ec-8783-817e4640e57d",
   "metadata": {},
   "outputs": [],
   "source": [
    "fig_3.get_figure().savefig('Dice_sim_viridis.pdf')"
   ]
  },
  {
   "cell_type": "code",
   "execution_count": null,
   "id": "72157a1b-adfe-4022-bb5a-03271752775c",
   "metadata": {},
   "outputs": [],
   "source": []
  }
 ],
 "metadata": {
  "kernelspec": {
   "display_name": "Python 3 (ipykernel)",
   "language": "python",
   "name": "python3"
  },
  "language_info": {
   "codemirror_mode": {
    "name": "ipython",
    "version": 3
   },
   "file_extension": ".py",
   "mimetype": "text/x-python",
   "name": "python",
   "nbconvert_exporter": "python",
   "pygments_lexer": "ipython3",
   "version": "3.9.13"
  }
 },
 "nbformat": 4,
 "nbformat_minor": 5
}
