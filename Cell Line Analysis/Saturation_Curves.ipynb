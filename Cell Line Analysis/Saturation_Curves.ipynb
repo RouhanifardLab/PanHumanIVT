{
 "cells": [
  {
   "cell_type": "code",
   "execution_count": 1,
   "id": "4b09a8a2-08d7-402e-9072-e5f01015e182",
   "metadata": {},
   "outputs": [],
   "source": [
    "#Saturation Curves"
   ]
  },
  {
   "cell_type": "code",
   "execution_count": 2,
   "id": "7e2bee6c-5b22-46a0-bcaf-64b30fbba4c5",
   "metadata": {},
   "outputs": [],
   "source": [
    "import pandas as pd\n",
    "import numpy as np\n",
    "import seaborn as sns\n",
    "import random\n",
    "import pickle\n",
    "import time\n",
    "random.seed(22)"
   ]
  },
  {
   "cell_type": "code",
   "execution_count": 3,
   "id": "3aa76b40-9812-4bea-88e6-0a56614ca0a3",
   "metadata": {},
   "outputs": [
    {
     "ename": "KeyboardInterrupt",
     "evalue": "",
     "output_type": "error",
     "traceback": [
      "\u001b[0;31m---------------------------------------------------------------------------\u001b[0m",
      "\u001b[0;31mKeyboardInterrupt\u001b[0m                         Traceback (most recent call last)",
      "\u001b[0;32m/var/folders/sf/wj5nsbs11gjcmpmdx0vfm2c80000gn/T/ipykernel_1163/3100045352.py\u001b[0m in \u001b[0;36m<module>\u001b[0;34m\u001b[0m\n\u001b[0;32m----> 1\u001b[0;31m \u001b[0mtime\u001b[0m\u001b[0;34m.\u001b[0m\u001b[0msleep\u001b[0m\u001b[0;34m(\u001b[0m\u001b[0;36m4000\u001b[0m\u001b[0;34m)\u001b[0m\u001b[0;34m\u001b[0m\u001b[0;34m\u001b[0m\u001b[0m\n\u001b[0m",
      "\u001b[0;31mKeyboardInterrupt\u001b[0m: "
     ]
    }
   ],
   "source": [
    "time.sleep(4000)"
   ]
  },
  {
   "cell_type": "code",
   "execution_count": 4,
   "id": "d443217c-070e-43b0-a319-954fd713787d",
   "metadata": {},
   "outputs": [],
   "source": [
    "fh = open('A549_read_to_gene_dict', 'rb')\n",
    "A549_read_dict = pickle.load(fh)\n",
    "fh.close()"
   ]
  },
  {
   "cell_type": "code",
   "execution_count": 5,
   "id": "b348ff9f-3021-49b1-b972-ed2d03941c9b",
   "metadata": {},
   "outputs": [],
   "source": [
    "fh = open('HEPG2_read_to_gene_dict', 'rb')\n",
    "HepG2_read_dict = pickle.load(fh)\n",
    "fh.close()"
   ]
  },
  {
   "cell_type": "code",
   "execution_count": 6,
   "id": "063f2f5c-81c4-4878-83e0-823ffa991475",
   "metadata": {},
   "outputs": [],
   "source": [
    "fh = open('NTERA_read_to_gene_dict', 'rb')\n",
    "NTERA_read_dict = pickle.load(fh)\n",
    "fh.close()"
   ]
  },
  {
   "cell_type": "code",
   "execution_count": 7,
   "id": "3a612eae-559d-468f-b44f-68163abeac97",
   "metadata": {},
   "outputs": [],
   "source": [
    "fh = open('SHSY5Y_read_to_gene_dict', 'rb')\n",
    "SHSY5Y_read_dict = pickle.load(fh)\n",
    "fh.close()"
   ]
  },
  {
   "cell_type": "code",
   "execution_count": 8,
   "id": "6f1eb69b-82f9-47b8-9d9c-89aa9aa947f2",
   "metadata": {},
   "outputs": [],
   "source": [
    "fh = open('HeLa_read_to_gene_dict', 'rb')\n",
    "HeLa_read_dict = pickle.load(fh)\n",
    "fh.close()"
   ]
  },
  {
   "cell_type": "code",
   "execution_count": 9,
   "id": "a8fcfbe6-220b-415f-93fa-9967917997fd",
   "metadata": {},
   "outputs": [
    {
     "data": {
      "text/plain": [
       "17570"
      ]
     },
     "execution_count": 9,
     "metadata": {},
     "output_type": "execute_result"
    }
   ],
   "source": [
    "len(set(HeLa_read_dict.values()))"
   ]
  },
  {
   "cell_type": "code",
   "execution_count": 10,
   "id": "0af49180-c6b2-4a89-87a9-a8c2316845ec",
   "metadata": {},
   "outputs": [
    {
     "name": "stdout",
     "output_type": "stream",
     "text": [
      "16064\n"
     ]
    }
   ],
   "source": [
    "count = 0\n",
    "for value in HeLa_read_dict.values():\n",
    "    if \"RP11\" in value:\n",
    "        count += 1\n",
    "print(count)"
   ]
  },
  {
   "cell_type": "code",
   "execution_count": 11,
   "id": "fa437849-1a10-4f44-b112-ceffb9eda39c",
   "metadata": {},
   "outputs": [],
   "source": [
    "#Establish representative samples 100k reads for each "
   ]
  },
  {
   "cell_type": "code",
   "execution_count": 12,
   "id": "483f8215-25bc-4222-a54b-979bb627c763",
   "metadata": {},
   "outputs": [],
   "source": [
    "def genes_from_reads(read_dict, n):\n",
    "    gene_set = set()\n",
    "    reads = random.sample(list(read_dict.keys()), n)\n",
    "    for read in reads:\n",
    "        gene_set.add(read_dict[read])\n",
    "    return gene_set\n",
    "\n",
    "def saturation(target_set, read_dict1, read_dict2, read_dict3, read_dict4, n):\n",
    "    pooled_set = genes_from_reads(read_dict1, n).union(genes_from_reads(read_dict2, n), genes_from_reads(read_dict3, n), genes_from_reads(read_dict4, n))\n",
    "    return(len(target_set.intersection(pooled_set))/len(target_set))"
   ]
  },
  {
   "cell_type": "code",
   "execution_count": 13,
   "id": "56beb43a-4d04-4100-8821-00522bf20193",
   "metadata": {},
   "outputs": [
    {
     "data": {
      "text/plain": [
       "0.9550959699695446"
      ]
     },
     "execution_count": 13,
     "metadata": {},
     "output_type": "execute_result"
    }
   ],
   "source": [
    "saturation(genes_from_reads(HeLa_read_dict, 1000000), A549_read_dict, HepG2_read_dict, SHSY5Y_read_dict, NTERA_read_dict, 1000000)"
   ]
  },
  {
   "cell_type": "code",
   "execution_count": 14,
   "id": "1cd7dd76-afc5-4ecc-b1e0-95d592dbffa5",
   "metadata": {},
   "outputs": [],
   "source": [
    "HeLa_rep = genes_from_reads(HeLa_read_dict, 1000000)\n",
    "A549_rep = genes_from_reads(A549_read_dict, 1000000)\n",
    "HepG2_rep = genes_from_reads(HepG2_read_dict, 1000000)\n",
    "SHSY5Y_rep = genes_from_reads(SHSY5Y_read_dict, 1000000)\n",
    "NTERA_rep = genes_from_reads(NTERA_read_dict, 1000000)"
   ]
  },
  {
   "cell_type": "code",
   "execution_count": 15,
   "id": "4b1e62c0-cbfc-4851-892e-bd3c3b4bf706",
   "metadata": {},
   "outputs": [],
   "source": [
    "saturation_dict = {'HeLa':{}, 'A549':{}, 'NTERA':{}, 'SHSY5Y':{}, 'HepG2':{}}"
   ]
  },
  {
   "cell_type": "code",
   "execution_count": 16,
   "id": "61007ae2-16c1-4309-91f0-bfe9083c4563",
   "metadata": {},
   "outputs": [
    {
     "name": "stdout",
     "output_type": "stream",
     "text": [
      "i=0\n",
      "j=0\n",
      "j=500000\n",
      "j=1000000\n",
      "j=0\n",
      "j=500000\n",
      "j=1000000\n",
      "j=0\n",
      "j=500000\n",
      "j=1000000\n",
      "j=0\n",
      "j=500000\n",
      "j=1000000\n",
      "j=0\n",
      "j=500000\n",
      "j=1000000\n",
      "i=5\n",
      "j=0\n",
      "j=500000\n",
      "j=1000000\n",
      "j=0\n",
      "j=500000\n",
      "j=1000000\n",
      "j=0\n",
      "j=500000\n",
      "j=1000000\n",
      "j=0\n",
      "j=500000\n",
      "j=1000000\n",
      "j=0\n",
      "j=500000\n",
      "j=1000000\n",
      "i=10\n",
      "j=0\n",
      "j=500000\n",
      "j=1000000\n",
      "j=0\n",
      "j=500000\n",
      "j=1000000\n",
      "j=0\n",
      "j=500000\n",
      "j=1000000\n",
      "j=0\n",
      "j=500000\n",
      "j=1000000\n",
      "j=0\n",
      "j=500000\n",
      "j=1000000\n",
      "i=15\n",
      "j=0\n",
      "j=500000\n",
      "j=1000000\n",
      "j=0\n",
      "j=500000\n",
      "j=1000000\n",
      "j=0\n",
      "j=500000\n",
      "j=1000000\n",
      "j=0\n",
      "j=500000\n",
      "j=1000000\n",
      "j=0\n",
      "j=500000\n",
      "j=1000000\n",
      "i=20\n",
      "j=0\n",
      "j=500000\n",
      "j=1000000\n",
      "j=0\n",
      "j=500000\n",
      "j=1000000\n",
      "j=0\n",
      "j=500000\n",
      "j=1000000\n",
      "j=0\n",
      "j=500000\n",
      "j=1000000\n",
      "j=0\n",
      "j=500000\n",
      "j=1000000\n",
      "i=25\n",
      "j=0\n",
      "j=500000\n",
      "j=1000000\n",
      "j=0\n",
      "j=500000\n",
      "j=1000000\n",
      "j=0\n",
      "j=500000\n",
      "j=1000000\n",
      "j=0\n",
      "j=500000\n",
      "j=1000000\n",
      "j=0\n",
      "j=500000\n",
      "j=1000000\n",
      "i=30\n",
      "j=0\n",
      "j=500000\n",
      "j=1000000\n",
      "j=0\n",
      "j=500000\n",
      "j=1000000\n",
      "j=0\n",
      "j=500000\n",
      "j=1000000\n",
      "j=0\n",
      "j=500000\n",
      "j=1000000\n",
      "j=0\n",
      "j=500000\n",
      "j=1000000\n",
      "i=35\n",
      "j=0\n",
      "j=500000\n",
      "j=1000000\n",
      "j=0\n",
      "j=500000\n",
      "j=1000000\n",
      "j=0\n",
      "j=500000\n",
      "j=1000000\n",
      "j=0\n",
      "j=500000\n",
      "j=1000000\n",
      "j=0\n",
      "j=500000\n",
      "j=1000000\n",
      "i=40\n",
      "j=0\n",
      "j=500000\n",
      "j=1000000\n",
      "j=0\n",
      "j=500000\n",
      "j=1000000\n",
      "j=0\n",
      "j=500000\n",
      "j=1000000\n",
      "j=0\n",
      "j=500000\n",
      "j=1000000\n",
      "j=0\n",
      "j=500000\n",
      "j=1000000\n",
      "i=45\n",
      "j=0\n",
      "j=500000\n",
      "j=1000000\n",
      "j=0\n",
      "j=500000\n",
      "j=1000000\n",
      "j=0\n",
      "j=500000\n",
      "j=1000000\n",
      "j=0\n",
      "j=500000\n",
      "j=1000000\n",
      "j=0\n",
      "j=500000\n",
      "j=1000000\n",
      "i=50\n",
      "j=0\n",
      "j=500000\n",
      "j=1000000\n",
      "j=0\n",
      "j=500000\n",
      "j=1000000\n",
      "j=0\n",
      "j=500000\n",
      "j=1000000\n",
      "j=0\n",
      "j=500000\n",
      "j=1000000\n",
      "j=0\n",
      "j=500000\n",
      "j=1000000\n",
      "i=55\n",
      "j=0\n",
      "j=500000\n",
      "j=1000000\n",
      "j=0\n",
      "j=500000\n",
      "j=1000000\n",
      "j=0\n",
      "j=500000\n",
      "j=1000000\n",
      "j=0\n",
      "j=500000\n",
      "j=1000000\n",
      "j=0\n",
      "j=500000\n",
      "j=1000000\n",
      "i=60\n",
      "j=0\n",
      "j=500000\n",
      "j=1000000\n",
      "j=0\n",
      "j=500000\n",
      "j=1000000\n",
      "j=0\n",
      "j=500000\n",
      "j=1000000\n",
      "j=0\n",
      "j=500000\n",
      "j=1000000\n",
      "j=0\n",
      "j=500000\n",
      "j=1000000\n",
      "i=65\n",
      "j=0\n",
      "j=500000\n",
      "j=1000000\n",
      "j=0\n",
      "j=500000\n",
      "j=1000000\n",
      "j=0\n",
      "j=500000\n",
      "j=1000000\n",
      "j=0\n",
      "j=500000\n",
      "j=1000000\n",
      "j=0\n",
      "j=500000\n",
      "j=1000000\n",
      "i=70\n",
      "j=0\n",
      "j=500000\n",
      "j=1000000\n",
      "j=0\n",
      "j=500000\n",
      "j=1000000\n",
      "j=0\n",
      "j=500000\n",
      "j=1000000\n",
      "j=0\n",
      "j=500000\n",
      "j=1000000\n",
      "j=0\n",
      "j=500000\n",
      "j=1000000\n",
      "i=75\n",
      "j=0\n",
      "j=500000\n",
      "j=1000000\n",
      "j=0\n",
      "j=500000\n",
      "j=1000000\n",
      "j=0\n",
      "j=500000\n",
      "j=1000000\n",
      "j=0\n",
      "j=500000\n",
      "j=1000000\n",
      "j=0\n",
      "j=500000\n",
      "j=1000000\n",
      "i=80\n",
      "j=0\n",
      "j=500000\n",
      "j=1000000\n",
      "j=0\n",
      "j=500000\n",
      "j=1000000\n",
      "j=0\n",
      "j=500000\n",
      "j=1000000\n",
      "j=0\n",
      "j=500000\n",
      "j=1000000\n",
      "j=0\n",
      "j=500000\n",
      "j=1000000\n",
      "i=85\n",
      "j=0\n",
      "j=500000\n",
      "j=1000000\n",
      "j=0\n",
      "j=500000\n",
      "j=1000000\n",
      "j=0\n",
      "j=500000\n",
      "j=1000000\n",
      "j=0\n",
      "j=500000\n",
      "j=1000000\n",
      "j=0\n",
      "j=500000\n",
      "j=1000000\n",
      "i=90\n",
      "j=0\n",
      "j=500000\n",
      "j=1000000\n",
      "j=0\n",
      "j=500000\n",
      "j=1000000\n",
      "j=0\n",
      "j=500000\n",
      "j=1000000\n",
      "j=0\n",
      "j=500000\n",
      "j=1000000\n",
      "j=0\n",
      "j=500000\n",
      "j=1000000\n",
      "i=95\n",
      "j=0\n",
      "j=500000\n",
      "j=1000000\n",
      "j=0\n",
      "j=500000\n",
      "j=1000000\n",
      "j=0\n",
      "j=500000\n",
      "j=1000000\n",
      "j=0\n",
      "j=500000\n",
      "j=1000000\n",
      "j=0\n",
      "j=500000\n",
      "j=1000000\n"
     ]
    }
   ],
   "source": [
    "for i in range(100):\n",
    "    if i % 5 == 0:\n",
    "        print(f\"{i=}\")\n",
    "    for j in range(0,1000001,100000):\n",
    "        if j % 500000 == 0:\n",
    "            print(f\"{j=}\")\n",
    "        for key in saturation_dict:\n",
    "            if j not in saturation_dict[key]:\n",
    "                saturation_dict[key][j] = {}\n",
    "        saturation_dict['HeLa'][j][i]=saturation(HeLa_rep, A549_read_dict, HepG2_read_dict, SHSY5Y_read_dict, NTERA_read_dict, j)\n",
    "        saturation_dict['A549'][j][i]=saturation(A549_rep, HeLa_read_dict, HepG2_read_dict, SHSY5Y_read_dict, NTERA_read_dict, j)\n",
    "        saturation_dict['NTERA'][j][i]=saturation(NTERA_rep, A549_read_dict, HepG2_read_dict, SHSY5Y_read_dict, HeLa_read_dict, j)\n",
    "        saturation_dict['SHSY5Y'][j][i]=saturation(SHSY5Y_rep, A549_read_dict, HepG2_read_dict, HeLa_read_dict, NTERA_read_dict, j)\n",
    "        saturation_dict['HepG2'][j][i]=saturation(HepG2_rep, A549_read_dict, HeLa_read_dict, SHSY5Y_read_dict, NTERA_read_dict, j)\n"
   ]
  },
  {
   "cell_type": "code",
   "execution_count": 17,
   "id": "9e097f4f-1462-478e-9313-94be1c7431dd",
   "metadata": {},
   "outputs": [],
   "source": [
    "df_hela =pd.DataFrame.from_dict(saturation_dict['HeLa'], orient = 'index')\n",
    "df_hela.reset_index(inplace=True)\n",
    "df_hela.rename(columns={'index':'Samples'}, inplace=True)\n",
    "df_hela = df_hela.melt(id_vars=['Samples'],var_name='Rep', value_name='Saturation')\n",
    "cell_line_hela = ['HeLa']*df_hela.shape[0]\n",
    "df_hela['Cell_Line'] = cell_line_hela"
   ]
  },
  {
   "cell_type": "code",
   "execution_count": 18,
   "id": "26f0c028-a904-49b2-a57a-cf0c30cc5a16",
   "metadata": {},
   "outputs": [],
   "source": [
    "df_a549 =pd.DataFrame.from_dict(saturation_dict['A549'], orient = 'index')\n",
    "df_a549.reset_index(inplace=True)\n",
    "df_a549.rename(columns={'index':'Samples'}, inplace=True)\n",
    "df_a549 = df_a549.melt(id_vars=['Samples'],var_name='Rep', value_name='Saturation')\n",
    "cell_line_a549 = ['A549']*df_a549.shape[0]\n",
    "df_a549['Cell_Line'] = cell_line_a549"
   ]
  },
  {
   "cell_type": "code",
   "execution_count": 19,
   "id": "4c321249-eb92-4255-874f-84b8161c2f81",
   "metadata": {},
   "outputs": [],
   "source": [
    "df_shsy5y =pd.DataFrame.from_dict(saturation_dict['SHSY5Y'], orient = 'index')\n",
    "df_shsy5y.reset_index(inplace=True)\n",
    "df_shsy5y.rename(columns={'index':'Samples'}, inplace=True)\n",
    "df_shsy5y = df_shsy5y.melt(id_vars=['Samples'],var_name='Rep', value_name='Saturation')\n",
    "cell_line_shsy5y = ['SHSY5Y']*df_shsy5y.shape[0]\n",
    "df_shsy5y['Cell_Line'] = cell_line_shsy5y"
   ]
  },
  {
   "cell_type": "code",
   "execution_count": 20,
   "id": "d02ebff0-0ac2-403c-bbb7-28ee7167066a",
   "metadata": {},
   "outputs": [],
   "source": [
    "df_ntera =pd.DataFrame.from_dict(saturation_dict['NTERA'], orient = 'index')\n",
    "df_ntera.reset_index(inplace=True)\n",
    "df_ntera.rename(columns={'index':'Samples'}, inplace=True)\n",
    "df_ntera = df_ntera.melt(id_vars=['Samples'],var_name='Rep', value_name='Saturation')\n",
    "cell_line_ntera = ['NTERA']*df_ntera.shape[0]\n",
    "df_ntera['Cell_Line'] = cell_line_ntera"
   ]
  },
  {
   "cell_type": "code",
   "execution_count": 21,
   "id": "58d695dc-18ef-4565-a2b2-690bfbf824e4",
   "metadata": {},
   "outputs": [],
   "source": [
    "df_hepg2 =pd.DataFrame.from_dict(saturation_dict['HepG2'], orient = 'index')\n",
    "df_hepg2.reset_index(inplace=True)\n",
    "df_hepg2.rename(columns={'index':'Samples'}, inplace=True)\n",
    "df_hepg2 = df_hepg2.melt(id_vars=['Samples'],var_name='Rep', value_name='Saturation')\n",
    "cell_line_hepg2 = ['HepG2']*df_hepg2.shape[0]\n",
    "df_hepg2['Cell_Line'] = cell_line_hepg2"
   ]
  },
  {
   "cell_type": "code",
   "execution_count": 22,
   "id": "10ffe15a-3bdf-49f1-9f1a-aa8dfb6e549a",
   "metadata": {},
   "outputs": [],
   "source": [
    "df = pd.concat([df_hepg2, df_ntera, df_shsy5y, df_a549, df_hela], axis = 0, ignore_index=True)\n",
    "df.head()\n",
    "df.to_csv('NOFILTER_Round_Robin.csv')"
   ]
  },
  {
   "cell_type": "code",
   "execution_count": 23,
   "id": "8d885a36-0197-4313-acd6-eed92adf3086",
   "metadata": {},
   "outputs": [],
   "source": [
    "sns.set(rc={\"figure.figsize\":(11.2, 7.858)}) #(width, height)"
   ]
  },
  {
   "cell_type": "code",
   "execution_count": 24,
   "id": "971aecb2-2474-4d34-b969-4cec1fdf2d27",
   "metadata": {},
   "outputs": [
    {
     "data": {
      "text/plain": [
       "[Text(0.5, 1.0, 'Target cell line gene capture from subsampling the other 4 cell lines'),\n",
       " Text(0.5, 0, 'Reads Sampled from each of the 4 non-target Cell Lines'),\n",
       " Text(0, 0.5, 'Percent of target Cell line gene expression captured')]"
      ]
     },
     "execution_count": 24,
     "metadata": {},
     "output_type": "execute_result"
    },
    {
     "data": {
      "image/png": "[encoded data removed]",
      "text/plain": [
       "<Figure size 1120x785.8 with 1 Axes>"
      ]
     },
     "metadata": {},
     "output_type": "display_data"
    }
   ],
   "source": [
    "fig = sns.lineplot(data=df, x = 'Samples', y = 'Saturation', hue = 'Cell_Line')\n",
    "fig.set(title = 'Target cell line gene capture from subsampling the other 4 cell lines', xlabel = 'Reads Sampled from each of the 4 non-target Cell Lines', ylabel = 'Percent of target Cell line gene expression captured')"
   ]
  },
  {
   "cell_type": "code",
   "execution_count": null,
   "id": "5b74737d-65e8-4072-aee9-c438cba44d29",
   "metadata": {},
   "outputs": [],
   "source": [
    "fig.get_figure().savefig('Round_robin_saturation.eps')"
   ]
  },
  {
   "cell_type": "code",
   "execution_count": null,
   "id": "63f078d0-24c1-4e0b-9eb1-fea8d9b6d8e3",
   "metadata": {},
   "outputs": [],
   "source": [
    "fig.get_figure().savefig('Round_robin_saturation.png')"
   ]
  },
  {
   "cell_type": "code",
   "execution_count": 25,
   "id": "97108469-a780-429d-b39b-82cdd3620a63",
   "metadata": {},
   "outputs": [],
   "source": [
    "fig.get_figure().savefig('NOFILTER_Round_robin_saturation.pdf')"
   ]
  },
  {
   "cell_type": "code",
   "execution_count": null,
   "id": "8546df73-2e97-430a-adcf-df48169fc5c1",
   "metadata": {},
   "outputs": [],
   "source": []
  },
  {
   "cell_type": "code",
   "execution_count": null,
   "id": "e8246322-ec47-4549-82b1-28f4a3c6a007",
   "metadata": {},
   "outputs": [],
   "source": []
  }
 ],
 "metadata": {
  "kernelspec": {
   "display_name": "Python 3 (ipykernel)",
   "language": "python",
   "name": "python3"
  },
  "language_info": {
   "codemirror_mode": {
    "name": "ipython",
    "version": 3
   },
   "file_extension": ".py",
   "mimetype": "text/x-python",
   "name": "python",
   "nbconvert_exporter": "python",
   "pygments_lexer": "ipython3",
   "version": "3.9.13"
  }
 },
 "nbformat": 4,
 "nbformat_minor": 5
}
