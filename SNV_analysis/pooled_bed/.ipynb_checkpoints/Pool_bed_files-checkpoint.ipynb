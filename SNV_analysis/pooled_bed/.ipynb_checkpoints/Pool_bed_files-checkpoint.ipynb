{
 "cells": [
  {
   "cell_type": "code",
   "execution_count": 2,
   "id": "e08107ab-360e-4982-8d46-125ea2aea157",
   "metadata": {},
   "outputs": [],
   "source": [
    "import os"
   ]
  },
  {
   "cell_type": "code",
   "execution_count": 6,
   "id": "3d56f6aa-0582-4d38-8301-5089a83975f6",
   "metadata": {},
   "outputs": [],
   "source": [
    "bed_directories = [\"./A549/Output_data/A549_bed_files\",\n",
    "                   \"./NTERA/Output_data/NTERA_bed_files\",\n",
    "                   \"./SH-SY5Y/Output_data/SH-SY5Y_bed_files\",\n",
    "                   \"./HeLa/Output_data/HeLa_bed_files\",\n",
    "                   \"./HepG2/Output_data/HepG2_bed_files\"]"
   ]
  },
  {
   "cell_type": "code",
   "execution_count": 14,
   "id": "d394d533-6e67-4b38-b625-52ee666bece4",
   "metadata": {},
   "outputs": [],
   "source": [
    "v30_set = set()\n",
    "v40_set = set()\n",
    "v50_set = set()\n",
    "v60_set = set()\n",
    "v70_set = set()\n",
    "v80_set = set()\n",
    "v95_set = set()"
   ]
  },
  {
   "cell_type": "code",
   "execution_count": 15,
   "id": "b0d56d25-d640-41af-a23a-1ca92357c100",
   "metadata": {},
   "outputs": [],
   "source": [
    "for directory in bed_directories:\n",
    "    v30 = open(f'{directory}/v30_pooled_{directory.split(\"/\")[-1].split(\"_\")[0]}.bed', 'w')\n",
    "    v40 = open(f'{directory}/v40_pooled_{directory.split(\"/\")[-1].split(\"_\")[0]}.bed', 'w')\n",
    "    v50 = open(f'{directory}/v50_pooled_{directory.split(\"/\")[-1].split(\"_\")[0]}.bed', 'w')\n",
    "    v60 = open(f'{directory}/v60_pooled_{directory.split(\"/\")[-1].split(\"_\")[0]}.bed', 'w')\n",
    "    v70 = open(f'{directory}/v70_pooled_{directory.split(\"/\")[-1].split(\"_\")[0]}.bed', 'w')\n",
    "    v80 = open(f'{directory}/v80_pooled_{directory.split(\"/\")[-1].split(\"_\")[0]}.bed', 'w')\n",
    "    v95 = open(f'{directory}/v95_pooled_{directory.split(\"/\")[-1].split(\"_\")[0]}.bed', 'w')\n",
    "    for file in os.listdir(directory):\n",
    "        if 'pooled' in file:\n",
    "            continue\n",
    "        read_file = open(f'{directory}/{file}', 'r')\n",
    "        for line in read_file:\n",
    "            if 'v30' in file:\n",
    "                v30.write(line)\n",
    "                v30_set.add(line)\n",
    "            if 'v40' in file:\n",
    "                v40.write(line)\n",
    "                v40_set.add(line)\n",
    "            if 'v50' in file:\n",
    "                v50.write(line)\n",
    "                v50_set.add(line)\n",
    "            if 'v60' in file:\n",
    "                v60.write(line)\n",
    "                v60_set.add(line)\n",
    "            if 'v70' in file:\n",
    "                v70.write(line)\n",
    "                v70_set.add(line)\n",
    "            if 'v80' in file:\n",
    "                v80.write(line)\n",
    "                v80_set.add(line)\n",
    "            if 'v95' in file:\n",
    "                v95.write(line)\n",
    "                v95_set.add(line)\n",
    "    v30.close()\n",
    "    v40.close()\n",
    "    v50.close()\n",
    "    v60.close()\n",
    "    v70.close()\n",
    "    v80.close()\n",
    "    v95.close()\n"
   ]
  },
  {
   "cell_type": "code",
   "execution_count": 17,
   "id": "041486a4-a6c7-4bff-899f-d25f11d3e36c",
   "metadata": {},
   "outputs": [],
   "source": [
    "v30_pan = open('./pooled_bed/v30_pan.bed', 'w')\n",
    "for line in v30_set:\n",
    "    v30_pan.write(line)\n",
    "v30_pan.close()"
   ]
  },
  {
   "cell_type": "code",
   "execution_count": 18,
   "id": "e83947eb-ed59-4701-a505-4d001bd42790",
   "metadata": {},
   "outputs": [],
   "source": [
    "v40_pan = open('./pooled_bed/v40_pan.bed', 'w')\n",
    "for line in v40_set:\n",
    "    v40_pan.write(line)\n",
    "v40_pan.close()"
   ]
  },
  {
   "cell_type": "code",
   "execution_count": 19,
   "id": "9e549a3b-4dcc-4146-be18-ff2c46facdd6",
   "metadata": {},
   "outputs": [],
   "source": [
    "v50_pan = open('./pooled_bed/v50_pan.bed', 'w')\n",
    "for line in v50_set:\n",
    "    v50_pan.write(line)\n",
    "v50_pan.close()"
   ]
  },
  {
   "cell_type": "code",
   "execution_count": 20,
   "id": "3088ecbd-2e6d-435c-8db8-811097635f35",
   "metadata": {},
   "outputs": [],
   "source": [
    "v60_pan = open('./pooled_bed/v60_pan.bed', 'w')\n",
    "for line in v60_set:\n",
    "    v60_pan.write(line)\n",
    "v60_pan.close()"
   ]
  },
  {
   "cell_type": "code",
   "execution_count": 21,
   "id": "c12ffae3-081b-4490-a9bb-8c42451a016c",
   "metadata": {},
   "outputs": [],
   "source": [
    "v70_pan = open('./pooled_bed/v70_pan.bed', 'w')\n",
    "for line in v70_set:\n",
    "    v70_pan.write(line)\n",
    "v70_pan.close()"
   ]
  },
  {
   "cell_type": "code",
   "execution_count": 22,
   "id": "0a27c9c7-da44-4e03-9e35-a3c617741773",
   "metadata": {},
   "outputs": [],
   "source": [
    "v80_pan = open('./pooled_bed/v80_pan.bed', 'w')\n",
    "for line in v80_set:\n",
    "    v80_pan.write(line)\n",
    "v80_pan.close()"
   ]
  },
  {
   "cell_type": "code",
   "execution_count": 23,
   "id": "06264ffc-7a7e-4318-8443-a8dc4da87406",
   "metadata": {},
   "outputs": [],
   "source": [
    "v95_pan = open('./pooled_bed/v95_pan.bed', 'w')\n",
    "for line in v95_set:\n",
    "    v95_pan.write(line)\n",
    "v95_pan.close()"
   ]
  },
  {
   "cell_type": "code",
   "execution_count": null,
   "id": "47b6adc0-df23-45c3-a32a-5b7defcc1649",
   "metadata": {},
   "outputs": [],
   "source": []
  }
 ],
 "metadata": {
  "kernelspec": {
   "display_name": "Python 3 (ipykernel)",
   "language": "python",
   "name": "python3"
  },
  "language_info": {
   "codemirror_mode": {
    "name": "ipython",
    "version": 3
   },
   "file_extension": ".py",
   "mimetype": "text/x-python",
   "name": "python",
   "nbconvert_exporter": "python",
   "pygments_lexer": "ipython3",
   "version": "3.9.13"
  }
 },
 "nbformat": 4,
 "nbformat_minor": 5
}
